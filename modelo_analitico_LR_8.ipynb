{
 "cells": [
  {
   "cell_type": "markdown",
   "id": "15a242e3-8601-4e3f-ad94-b1a91f1e6aaf",
   "metadata": {},
   "source": [
    "# Modelo analítico"
   ]
  },
  {
   "cell_type": "markdown",
   "id": "354945d2-5fa8-4f3b-a39e-96e1477edb22",
   "metadata": {},
   "source": [
    "Se desea saber si es posible inferir el **tipo de pase (passholder_type)** tomando en cuenta las demás variables de viaje."
   ]
  },
  {
   "cell_type": "code",
   "execution_count": 1,
   "id": "036bd567-4b45-47ef-b565-000f629b69fc",
   "metadata": {},
   "outputs": [],
   "source": [
    "#pip install scikit-learn"
   ]
  },
  {
   "cell_type": "code",
   "execution_count": 2,
   "id": "6e74b13c-2375-4fff-bb6a-e2bf91860e96",
   "metadata": {},
   "outputs": [],
   "source": [
    "import pandas as pd\n",
    "import numpy as np"
   ]
  },
  {
   "cell_type": "markdown",
   "id": "8555246e-651c-418c-8396-95ce05fc96c8",
   "metadata": {},
   "source": [
    "Creamos el data frame de entrenamiento:"
   ]
  },
  {
   "cell_type": "code",
   "execution_count": 3,
   "id": "620d97a7-fae3-4b58-8a87-5ff5d25e440d",
   "metadata": {},
   "outputs": [
    {
     "name": "stderr",
     "output_type": "stream",
     "text": [
      "/tmp/ipykernel_2195/2365136975.py:1: DtypeWarning: Columns (8) have mixed types. Specify dtype option on import or set low_memory=False.\n",
      "  df_train= pd.read_csv(\"ds-programming-test/train_set.csv\")\n"
     ]
    }
   ],
   "source": [
    "df_train= pd.read_csv(\"ds-programming-test/train_set.csv\")"
   ]
  },
  {
   "cell_type": "code",
   "execution_count": 4,
   "id": "a2563be7-9007-4bc8-8f22-7ebbd69cb750",
   "metadata": {},
   "outputs": [
    {
     "data": {
      "text/html": [
       "<div>\n",
       "<style scoped>\n",
       "    .dataframe tbody tr th:only-of-type {\n",
       "        vertical-align: middle;\n",
       "    }\n",
       "\n",
       "    .dataframe tbody tr th {\n",
       "        vertical-align: top;\n",
       "    }\n",
       "\n",
       "    .dataframe thead th {\n",
       "        text-align: right;\n",
       "    }\n",
       "</style>\n",
       "<table border=\"1\" class=\"dataframe\">\n",
       "  <thead>\n",
       "    <tr style=\"text-align: right;\">\n",
       "      <th></th>\n",
       "      <th>trip_id</th>\n",
       "      <th>duration</th>\n",
       "      <th>start_time</th>\n",
       "      <th>end_time</th>\n",
       "      <th>start_lat</th>\n",
       "      <th>start_lon</th>\n",
       "      <th>end_lat</th>\n",
       "      <th>end_lon</th>\n",
       "      <th>bike_id</th>\n",
       "      <th>plan_duration</th>\n",
       "      <th>trip_route_category</th>\n",
       "      <th>passholder_type</th>\n",
       "      <th>start_station</th>\n",
       "      <th>end_station</th>\n",
       "    </tr>\n",
       "  </thead>\n",
       "  <tbody>\n",
       "    <tr>\n",
       "      <th>0</th>\n",
       "      <td>101750280</td>\n",
       "      <td>35</td>\n",
       "      <td>2018-08-07 11:20:00</td>\n",
       "      <td>2018-08-07 11:55:00</td>\n",
       "      <td>33.748920</td>\n",
       "      <td>-118.275192</td>\n",
       "      <td>33.748920</td>\n",
       "      <td>-118.275192</td>\n",
       "      <td>06530</td>\n",
       "      <td>1.0</td>\n",
       "      <td>Round Trip</td>\n",
       "      <td>Walk-up</td>\n",
       "      <td>4127</td>\n",
       "      <td>4127</td>\n",
       "    </tr>\n",
       "    <tr>\n",
       "      <th>1</th>\n",
       "      <td>46560345</td>\n",
       "      <td>32</td>\n",
       "      <td>9/17/2017 17:51</td>\n",
       "      <td>9/17/2017 18:23</td>\n",
       "      <td>34.035679</td>\n",
       "      <td>-118.270813</td>\n",
       "      <td>34.047749</td>\n",
       "      <td>-118.243172</td>\n",
       "      <td>6683</td>\n",
       "      <td>0.0</td>\n",
       "      <td>One Way</td>\n",
       "      <td>Walk-up</td>\n",
       "      <td>3057</td>\n",
       "      <td>3062</td>\n",
       "    </tr>\n",
       "    <tr>\n",
       "      <th>2</th>\n",
       "      <td>120016336</td>\n",
       "      <td>6</td>\n",
       "      <td>2019-04-22 09:22:00</td>\n",
       "      <td>2019-04-22 09:28:00</td>\n",
       "      <td>34.046070</td>\n",
       "      <td>-118.233093</td>\n",
       "      <td>34.047749</td>\n",
       "      <td>-118.243172</td>\n",
       "      <td>06710</td>\n",
       "      <td>30.0</td>\n",
       "      <td>One Way</td>\n",
       "      <td>Monthly Pass</td>\n",
       "      <td>3022</td>\n",
       "      <td>3062</td>\n",
       "    </tr>\n",
       "    <tr>\n",
       "      <th>3</th>\n",
       "      <td>129547190</td>\n",
       "      <td>138</td>\n",
       "      <td>9/22/2019 11:27</td>\n",
       "      <td>9/22/2019 13:45</td>\n",
       "      <td>34.062580</td>\n",
       "      <td>-118.290092</td>\n",
       "      <td>34.059689</td>\n",
       "      <td>-118.294662</td>\n",
       "      <td>17068</td>\n",
       "      <td>1.0</td>\n",
       "      <td>One Way</td>\n",
       "      <td>One Day Pass</td>\n",
       "      <td>4304</td>\n",
       "      <td>4311</td>\n",
       "    </tr>\n",
       "    <tr>\n",
       "      <th>4</th>\n",
       "      <td>136619463</td>\n",
       "      <td>14</td>\n",
       "      <td>1/31/2020 17:11</td>\n",
       "      <td>1/31/2020 17:25</td>\n",
       "      <td>34.026291</td>\n",
       "      <td>-118.277687</td>\n",
       "      <td>34.021660</td>\n",
       "      <td>-118.278687</td>\n",
       "      <td>18841</td>\n",
       "      <td>30.0</td>\n",
       "      <td>One Way</td>\n",
       "      <td>Monthly Pass</td>\n",
       "      <td>4266</td>\n",
       "      <td>4443</td>\n",
       "    </tr>\n",
       "  </tbody>\n",
       "</table>\n",
       "</div>"
      ],
      "text/plain": [
       "     trip_id  duration           start_time             end_time  start_lat  \\\n",
       "0  101750280        35  2018-08-07 11:20:00  2018-08-07 11:55:00  33.748920   \n",
       "1   46560345        32      9/17/2017 17:51      9/17/2017 18:23  34.035679   \n",
       "2  120016336         6  2019-04-22 09:22:00  2019-04-22 09:28:00  34.046070   \n",
       "3  129547190       138      9/22/2019 11:27      9/22/2019 13:45  34.062580   \n",
       "4  136619463        14      1/31/2020 17:11      1/31/2020 17:25  34.026291   \n",
       "\n",
       "    start_lon    end_lat     end_lon bike_id  plan_duration  \\\n",
       "0 -118.275192  33.748920 -118.275192   06530            1.0   \n",
       "1 -118.270813  34.047749 -118.243172    6683            0.0   \n",
       "2 -118.233093  34.047749 -118.243172   06710           30.0   \n",
       "3 -118.290092  34.059689 -118.294662   17068            1.0   \n",
       "4 -118.277687  34.021660 -118.278687   18841           30.0   \n",
       "\n",
       "  trip_route_category passholder_type  start_station  end_station  \n",
       "0          Round Trip         Walk-up           4127         4127  \n",
       "1             One Way         Walk-up           3057         3062  \n",
       "2             One Way    Monthly Pass           3022         3062  \n",
       "3             One Way    One Day Pass           4304         4311  \n",
       "4             One Way    Monthly Pass           4266         4443  "
      ]
     },
     "execution_count": 4,
     "metadata": {},
     "output_type": "execute_result"
    }
   ],
   "source": [
    "df_train.head(5)"
   ]
  },
  {
   "cell_type": "markdown",
   "id": "9a28137e-59e6-400e-b4f3-bec3559daf88",
   "metadata": {},
   "source": [
    "Vemos si hay valores de tipo NAN en alguna de las columnas del data frame:"
   ]
  },
  {
   "cell_type": "code",
   "execution_count": 5,
   "id": "13e7bb17-94fc-48b5-b2e3-03ef31dda698",
   "metadata": {},
   "outputs": [
    {
     "data": {
      "text/plain": [
       "trip_id                    0\n",
       "duration                   0\n",
       "start_time                 0\n",
       "end_time                   0\n",
       "start_lat               5563\n",
       "start_lon               5563\n",
       "end_lat                18574\n",
       "end_lon                18574\n",
       "bike_id                    0\n",
       "plan_duration            208\n",
       "trip_route_category        0\n",
       "passholder_type         2576\n",
       "start_station              0\n",
       "end_station                0\n",
       "dtype: int64"
      ]
     },
     "execution_count": 5,
     "metadata": {},
     "output_type": "execute_result"
    }
   ],
   "source": [
    "df_train.isnull().sum()"
   ]
  },
  {
   "cell_type": "markdown",
   "id": "5c96b315-7985-4054-9b69-902c6dfa047a",
   "metadata": {},
   "source": [
    "Seis de las variables anteriores presentan valores NAN. Como se demostró en el análisis exploratorio, hay algunas variables que pueden ser determinantes al momento de predecir el tipo de pase que las personas eligen para usar el servicio de bicicletas. Siendo evidente en este análisis el hecho de que por ejemplo, la variable start_time, **dependiendo** del día de la semana se podía observar un uso predominante de algún tipo de pase en un día en particular."
   ]
  },
  {
   "cell_type": "markdown",
   "id": "d0a02fa8-bef6-4428-a9f1-8b77837d690b",
   "metadata": {},
   "source": [
    "## Variable predictora (Start time):"
   ]
  },
  {
   "cell_type": "markdown",
   "id": "254b44f9-9a93-4c0e-84d2-54a4f60cb0ae",
   "metadata": {},
   "source": [
    "Convertimos start_time a timestamp:"
   ]
  },
  {
   "cell_type": "code",
   "execution_count": 6,
   "id": "fbeaf070-0bfb-43c1-8c3c-5b117969b402",
   "metadata": {},
   "outputs": [],
   "source": [
    "df_train.start_time = df_train.start_time.astype(\"datetime64[ns]\")"
   ]
  },
  {
   "cell_type": "code",
   "execution_count": 7,
   "id": "2c69ef20-69a5-414d-863b-189f74a88d65",
   "metadata": {},
   "outputs": [
    {
     "data": {
      "text/plain": [
       "pandas._libs.tslibs.timestamps.Timestamp"
      ]
     },
     "execution_count": 7,
     "metadata": {},
     "output_type": "execute_result"
    }
   ],
   "source": [
    "type(df_train.start_time[0])"
   ]
  },
  {
   "cell_type": "markdown",
   "id": "0c67408c-48f8-402a-ab55-9523b372927c",
   "metadata": {},
   "source": [
    "Convertimos de timestamp (fecha) a día de la semana(1, 6, 0, 4, 5, 3, 2). Lunes es 0, martes es 1 y así sucesivamente:"
   ]
  },
  {
   "cell_type": "code",
   "execution_count": 8,
   "id": "7676f988-a2a7-4e97-b90e-b1dbd59cd445",
   "metadata": {},
   "outputs": [],
   "source": [
    "df_train[\"start_time_class\"]=df_train[\"start_time\"].dt.dayofweek"
   ]
  },
  {
   "cell_type": "code",
   "execution_count": 9,
   "id": "8c39c9f2-3c5b-4105-9580-e11aea0af9a9",
   "metadata": {},
   "outputs": [
    {
     "data": {
      "text/plain": [
       "array([1, 6, 0, 4, 5, 3, 2])"
      ]
     },
     "execution_count": 9,
     "metadata": {},
     "output_type": "execute_result"
    }
   ],
   "source": [
    "df_train.start_time_class.unique()"
   ]
  },
  {
   "cell_type": "markdown",
   "id": "18d5f98a-e54c-4c4b-8ae2-7285093a91c9",
   "metadata": {},
   "source": [
    "Convertir a dummies las variables de los días de la semana:"
   ]
  },
  {
   "cell_type": "code",
   "execution_count": 10,
   "id": "6a7d360a-b1f4-4f91-93a8-76749b59dbdf",
   "metadata": {},
   "outputs": [],
   "source": [
    "df_dummies_week_days=pd.get_dummies(df_train[\"start_time_class\"])"
   ]
  },
  {
   "cell_type": "code",
   "execution_count": 11,
   "id": "730a8075-ef03-4350-bec9-c3d7e753dd0f",
   "metadata": {},
   "outputs": [
    {
     "data": {
      "text/html": [
       "<div>\n",
       "<style scoped>\n",
       "    .dataframe tbody tr th:only-of-type {\n",
       "        vertical-align: middle;\n",
       "    }\n",
       "\n",
       "    .dataframe tbody tr th {\n",
       "        vertical-align: top;\n",
       "    }\n",
       "\n",
       "    .dataframe thead th {\n",
       "        text-align: right;\n",
       "    }\n",
       "</style>\n",
       "<table border=\"1\" class=\"dataframe\">\n",
       "  <thead>\n",
       "    <tr style=\"text-align: right;\">\n",
       "      <th></th>\n",
       "      <th>0</th>\n",
       "      <th>1</th>\n",
       "      <th>2</th>\n",
       "      <th>3</th>\n",
       "      <th>4</th>\n",
       "      <th>5</th>\n",
       "      <th>6</th>\n",
       "    </tr>\n",
       "  </thead>\n",
       "  <tbody>\n",
       "    <tr>\n",
       "      <th>0</th>\n",
       "      <td>0</td>\n",
       "      <td>1</td>\n",
       "      <td>0</td>\n",
       "      <td>0</td>\n",
       "      <td>0</td>\n",
       "      <td>0</td>\n",
       "      <td>0</td>\n",
       "    </tr>\n",
       "    <tr>\n",
       "      <th>1</th>\n",
       "      <td>0</td>\n",
       "      <td>0</td>\n",
       "      <td>0</td>\n",
       "      <td>0</td>\n",
       "      <td>0</td>\n",
       "      <td>0</td>\n",
       "      <td>1</td>\n",
       "    </tr>\n",
       "  </tbody>\n",
       "</table>\n",
       "</div>"
      ],
      "text/plain": [
       "   0  1  2  3  4  5  6\n",
       "0  0  1  0  0  0  0  0\n",
       "1  0  0  0  0  0  0  1"
      ]
     },
     "execution_count": 11,
     "metadata": {},
     "output_type": "execute_result"
    }
   ],
   "source": [
    "df_dummies_week_days.head(2)"
   ]
  },
  {
   "cell_type": "markdown",
   "id": "6331fe5e-23d0-4bde-9d4f-c814fc13d066",
   "metadata": {},
   "source": [
    "## Variables predictora(End_time) :"
   ]
  },
  {
   "cell_type": "code",
   "execution_count": 12,
   "id": "916b2502-dec0-4205-998d-ea99135e9ade",
   "metadata": {},
   "outputs": [],
   "source": [
    "df_train.end_time = df_train.end_time.astype(\"datetime64[ns]\")"
   ]
  },
  {
   "cell_type": "code",
   "execution_count": 13,
   "id": "d59a89cc-d3bf-49d8-b4e0-3867285eae52",
   "metadata": {},
   "outputs": [],
   "source": [
    "df_train[\"end_time\"]=df_train[\"end_time\"].dt.dayofweek"
   ]
  },
  {
   "cell_type": "code",
   "execution_count": 14,
   "id": "5d881e9b-079b-47d6-8320-88b0477e22ed",
   "metadata": {},
   "outputs": [
    {
     "data": {
      "text/plain": [
       "array([1, 6, 0, 4, 5, 3, 2])"
      ]
     },
     "execution_count": 14,
     "metadata": {},
     "output_type": "execute_result"
    }
   ],
   "source": [
    "df_train.end_time.unique()"
   ]
  },
  {
   "cell_type": "code",
   "execution_count": 15,
   "id": "86a84d97-d6a1-4d3a-9365-ab285636b9b3",
   "metadata": {},
   "outputs": [],
   "source": [
    "df_dummies_week_days_end=pd.get_dummies(df_train[\"end_time\"])"
   ]
  },
  {
   "cell_type": "markdown",
   "id": "01e2c468-acfd-4a59-b636-c7997647dd52",
   "metadata": {},
   "source": [
    "## Creacion del data frame con variables predictoras (Start time + Start station + End_time+ end station)"
   ]
  },
  {
   "cell_type": "markdown",
   "id": "8a48a7e1-bd4c-4d98-b3f0-6d2da338f8c3",
   "metadata": {},
   "source": [
    "Se crea un data frame con el nombre **df_train_new** que contiene a la variable **Start time** convertida a 7 variables dummy,que corresponden a los días de la semana."
   ]
  },
  {
   "cell_type": "code",
   "execution_count": 16,
   "id": "256104d4-00ab-4f84-904b-46e15341dc06",
   "metadata": {},
   "outputs": [],
   "source": [
    "df_train_new =pd.DataFrame().assign(Lunes=df_dummies_week_days[0]\n",
    ",Martes=df_dummies_week_days[1],Miercoles=df_dummies_week_days[2]\n",
    ",Jueves=df_dummies_week_days[3],Viernes=df_dummies_week_days[4]\n",
    ",Sabado=df_dummies_week_days[5],Domingo=df_dummies_week_days[6]\n",
    ",Lunes_end=df_dummies_week_days_end[0],Martes_end=df_dummies_week_days_end[1]\n",
    ",Miercoles_end=df_dummies_week_days_end[2],Jueves_end=df_dummies_week_days_end[3]\n",
    ",Viernes_end=df_dummies_week_days_end[4],Sabado_end=df_dummies_week_days_end[5]\n",
    ",Domingo_end=df_dummies_week_days_end[6],start_station=df_train[\"start_station\"]\n",
    ",end_station=df_train[\"end_station\"],duration=df_train[\"duration\"],passholder_type=df_train[\"passholder_type\"])"
   ]
  },
  {
   "cell_type": "code",
   "execution_count": 17,
   "id": "e20bf60e-d6a0-4430-b12e-770e834551c3",
   "metadata": {},
   "outputs": [
    {
     "data": {
      "text/html": [
       "<div>\n",
       "<style scoped>\n",
       "    .dataframe tbody tr th:only-of-type {\n",
       "        vertical-align: middle;\n",
       "    }\n",
       "\n",
       "    .dataframe tbody tr th {\n",
       "        vertical-align: top;\n",
       "    }\n",
       "\n",
       "    .dataframe thead th {\n",
       "        text-align: right;\n",
       "    }\n",
       "</style>\n",
       "<table border=\"1\" class=\"dataframe\">\n",
       "  <thead>\n",
       "    <tr style=\"text-align: right;\">\n",
       "      <th></th>\n",
       "      <th>Lunes</th>\n",
       "      <th>Martes</th>\n",
       "      <th>Miercoles</th>\n",
       "      <th>Jueves</th>\n",
       "      <th>Viernes</th>\n",
       "      <th>Sabado</th>\n",
       "      <th>Domingo</th>\n",
       "      <th>Lunes_end</th>\n",
       "      <th>Martes_end</th>\n",
       "      <th>Miercoles_end</th>\n",
       "      <th>Jueves_end</th>\n",
       "      <th>Viernes_end</th>\n",
       "      <th>Sabado_end</th>\n",
       "      <th>Domingo_end</th>\n",
       "      <th>start_station</th>\n",
       "      <th>end_station</th>\n",
       "      <th>duration</th>\n",
       "      <th>passholder_type</th>\n",
       "    </tr>\n",
       "  </thead>\n",
       "  <tbody>\n",
       "    <tr>\n",
       "      <th>0</th>\n",
       "      <td>0</td>\n",
       "      <td>1</td>\n",
       "      <td>0</td>\n",
       "      <td>0</td>\n",
       "      <td>0</td>\n",
       "      <td>0</td>\n",
       "      <td>0</td>\n",
       "      <td>0</td>\n",
       "      <td>1</td>\n",
       "      <td>0</td>\n",
       "      <td>0</td>\n",
       "      <td>0</td>\n",
       "      <td>0</td>\n",
       "      <td>0</td>\n",
       "      <td>4127</td>\n",
       "      <td>4127</td>\n",
       "      <td>35</td>\n",
       "      <td>Walk-up</td>\n",
       "    </tr>\n",
       "    <tr>\n",
       "      <th>1</th>\n",
       "      <td>0</td>\n",
       "      <td>0</td>\n",
       "      <td>0</td>\n",
       "      <td>0</td>\n",
       "      <td>0</td>\n",
       "      <td>0</td>\n",
       "      <td>1</td>\n",
       "      <td>0</td>\n",
       "      <td>0</td>\n",
       "      <td>0</td>\n",
       "      <td>0</td>\n",
       "      <td>0</td>\n",
       "      <td>0</td>\n",
       "      <td>1</td>\n",
       "      <td>3057</td>\n",
       "      <td>3062</td>\n",
       "      <td>32</td>\n",
       "      <td>Walk-up</td>\n",
       "    </tr>\n",
       "    <tr>\n",
       "      <th>2</th>\n",
       "      <td>1</td>\n",
       "      <td>0</td>\n",
       "      <td>0</td>\n",
       "      <td>0</td>\n",
       "      <td>0</td>\n",
       "      <td>0</td>\n",
       "      <td>0</td>\n",
       "      <td>1</td>\n",
       "      <td>0</td>\n",
       "      <td>0</td>\n",
       "      <td>0</td>\n",
       "      <td>0</td>\n",
       "      <td>0</td>\n",
       "      <td>0</td>\n",
       "      <td>3022</td>\n",
       "      <td>3062</td>\n",
       "      <td>6</td>\n",
       "      <td>Monthly Pass</td>\n",
       "    </tr>\n",
       "    <tr>\n",
       "      <th>3</th>\n",
       "      <td>0</td>\n",
       "      <td>0</td>\n",
       "      <td>0</td>\n",
       "      <td>0</td>\n",
       "      <td>0</td>\n",
       "      <td>0</td>\n",
       "      <td>1</td>\n",
       "      <td>0</td>\n",
       "      <td>0</td>\n",
       "      <td>0</td>\n",
       "      <td>0</td>\n",
       "      <td>0</td>\n",
       "      <td>0</td>\n",
       "      <td>1</td>\n",
       "      <td>4304</td>\n",
       "      <td>4311</td>\n",
       "      <td>138</td>\n",
       "      <td>One Day Pass</td>\n",
       "    </tr>\n",
       "    <tr>\n",
       "      <th>4</th>\n",
       "      <td>0</td>\n",
       "      <td>0</td>\n",
       "      <td>0</td>\n",
       "      <td>0</td>\n",
       "      <td>1</td>\n",
       "      <td>0</td>\n",
       "      <td>0</td>\n",
       "      <td>0</td>\n",
       "      <td>0</td>\n",
       "      <td>0</td>\n",
       "      <td>0</td>\n",
       "      <td>1</td>\n",
       "      <td>0</td>\n",
       "      <td>0</td>\n",
       "      <td>4266</td>\n",
       "      <td>4443</td>\n",
       "      <td>14</td>\n",
       "      <td>Monthly Pass</td>\n",
       "    </tr>\n",
       "  </tbody>\n",
       "</table>\n",
       "</div>"
      ],
      "text/plain": [
       "   Lunes  Martes  Miercoles  Jueves  Viernes  Sabado  Domingo  Lunes_end  \\\n",
       "0      0       1          0       0        0       0        0          0   \n",
       "1      0       0          0       0        0       0        1          0   \n",
       "2      1       0          0       0        0       0        0          1   \n",
       "3      0       0          0       0        0       0        1          0   \n",
       "4      0       0          0       0        1       0        0          0   \n",
       "\n",
       "   Martes_end  Miercoles_end  Jueves_end  Viernes_end  Sabado_end  \\\n",
       "0           1              0           0            0           0   \n",
       "1           0              0           0            0           0   \n",
       "2           0              0           0            0           0   \n",
       "3           0              0           0            0           0   \n",
       "4           0              0           0            1           0   \n",
       "\n",
       "   Domingo_end  start_station  end_station  duration passholder_type  \n",
       "0            0           4127         4127        35         Walk-up  \n",
       "1            1           3057         3062        32         Walk-up  \n",
       "2            0           3022         3062         6    Monthly Pass  \n",
       "3            1           4304         4311       138    One Day Pass  \n",
       "4            0           4266         4443        14    Monthly Pass  "
      ]
     },
     "execution_count": 17,
     "metadata": {},
     "output_type": "execute_result"
    }
   ],
   "source": [
    "df_train_new.head(5)"
   ]
  },
  {
   "cell_type": "markdown",
   "id": "d52094dd-b641-46f0-ae6b-ce6f1a2b800b",
   "metadata": {},
   "source": [
    "Contar valores diferentes para **passholder_type**. Esto es útil para saber si existe alguna diferencia considerable respecto a la cantidad de datos que se tengan sobre alguna variable categórica de las que se quieren predecir, repecto a aquellas que tengan más cantidad de datos. Esto podría traer problemas a la calidad del modelo debido a la disparidad de la cantidad datos predictivos entre una vriable categórica y otra ."
   ]
  },
  {
   "cell_type": "code",
   "execution_count": 18,
   "id": "329082aa-8846-4357-8c96-8c368cfbf6c9",
   "metadata": {},
   "outputs": [
    {
     "data": {
      "text/plain": [
       "Monthly Pass    394769\n",
       "Walk-up         212426\n",
       "One Day Pass     44455\n",
       "Annual Pass      34092\n",
       "Flex Pass        11604\n",
       "Testing             78\n",
       "Name: passholder_type, dtype: int64"
      ]
     },
     "execution_count": 18,
     "metadata": {},
     "output_type": "execute_result"
    }
   ],
   "source": [
    "df_train_new[\"passholder_type\"].value_counts()"
   ]
  },
  {
   "cell_type": "markdown",
   "id": "5dc0edd4-8849-4335-b8ca-1c00144bdc69",
   "metadata": {},
   "source": [
    "De lo anterior vemos que por ejemplo la variable **Testing** posee sólo 78 datos en total respecto al mayor que es de 394769 para la variable categórica **Monthly Pass**. Esta disparidad podría provocar una pobre y poca confiable predicción para **Testing** y que podría afectar de alguna manera a la predicción de las demás categorías."
   ]
  },
  {
   "cell_type": "markdown",
   "id": "e59b0939-cf0f-496f-a74a-8876486afa27",
   "metadata": {},
   "source": [
    "Observamos que la cantidad de **testing** es muy inferior respecto a los demás por lo que puede causar problemas de underfitting, asíque sería mejor eliminar esos datos que precieran outlayers porque se salen de la tendencia."
   ]
  },
  {
   "cell_type": "code",
   "execution_count": 19,
   "id": "6d43f71d-3642-44a6-94dd-3abf27c3e28b",
   "metadata": {},
   "outputs": [],
   "source": [
    "df_train_new_wo_testing=df_train_new.drop(df_train_new[df_train_new[\"passholder_type\"]==\"Testing\"].index)"
   ]
  },
  {
   "cell_type": "code",
   "execution_count": 20,
   "id": "63d5841c-73d2-4f6e-86e1-023109cdaa9a",
   "metadata": {},
   "outputs": [
    {
     "data": {
      "text/plain": [
       "(699922, 18)"
      ]
     },
     "execution_count": 20,
     "metadata": {},
     "output_type": "execute_result"
    }
   ],
   "source": [
    "df_train_new_wo_testing.shape"
   ]
  },
  {
   "cell_type": "markdown",
   "id": "f4568ec8-5e0a-4da6-a5dd-74dd7ed9f849",
   "metadata": {},
   "source": [
    "+ Con la siguiente línea se quita además de **testing** a **Flex Pass**, esto también con la finalidad de estabiliziar las predicciones del modelo pues existe una gran diferencia también entre Flex Pass y las categorías con más datos como lo son Monthly Pass y Walk-up."
   ]
  },
  {
   "cell_type": "code",
   "execution_count": 21,
   "id": "e2a9d15f-a858-4e41-8444-b2ee2d31c235",
   "metadata": {},
   "outputs": [],
   "source": [
    "df_train_new_wo_testing_flexpass=df_train_new_wo_testing.drop(df_train_new_wo_testing[df_train_new_wo_testing[\"passholder_type\"]==\"Flex Pass\"].index)"
   ]
  },
  {
   "cell_type": "code",
   "execution_count": 22,
   "id": "ff5aeed1-fdf1-42db-afee-e81dab54bc3d",
   "metadata": {},
   "outputs": [
    {
     "data": {
      "text/plain": [
       "(688318, 18)"
      ]
     },
     "execution_count": 22,
     "metadata": {},
     "output_type": "execute_result"
    }
   ],
   "source": [
    "df_train_new_wo_testing_flexpass.shape"
   ]
  },
  {
   "cell_type": "markdown",
   "id": "0f0d0be0-000b-48a6-910c-6b62d2e089db",
   "metadata": {},
   "source": [
    "+ Con la siguiente línea se quita además de **testing** a **Flex Pass** y **Annual Pass**."
   ]
  },
  {
   "cell_type": "code",
   "execution_count": 23,
   "id": "c5075270-ad8f-41c3-802a-3c30d5410121",
   "metadata": {},
   "outputs": [],
   "source": [
    "df_train_new_wo_annualpass=df_train_new_wo_testing_flexpass.drop(df_train_new_wo_testing_flexpass[df_train_new_wo_testing_flexpass[\"passholder_type\"]==\"Annual Pass\"].index)"
   ]
  },
  {
   "cell_type": "code",
   "execution_count": 24,
   "id": "89315394-9cec-4dda-897b-8acbb6b24ef2",
   "metadata": {},
   "outputs": [
    {
     "data": {
      "text/plain": [
       "(654226, 18)"
      ]
     },
     "execution_count": 24,
     "metadata": {},
     "output_type": "execute_result"
    }
   ],
   "source": [
    "df_train_new_wo_annualpass.shape"
   ]
  },
  {
   "cell_type": "markdown",
   "id": "950e77db-6b9f-43bf-b328-ba7951b03d6e",
   "metadata": {},
   "source": [
    "+ Con la siguiente línea se quita además de **testing** a **Flex Pass** **Annual Pass** y **One Day Pass**."
   ]
  },
  {
   "cell_type": "code",
   "execution_count": 25,
   "id": "a027ff0b-9446-4126-ae51-b890c4972885",
   "metadata": {},
   "outputs": [],
   "source": [
    "df_train_new_wo_onedaypass=df_train_new_wo_annualpass.drop(df_train_new_wo_annualpass[df_train_new_wo_annualpass[\"passholder_type\"]==\"One Day Pass\"].index)"
   ]
  },
  {
   "cell_type": "code",
   "execution_count": 26,
   "id": "76732636-8103-46cd-bc9b-fe94d9b20c28",
   "metadata": {},
   "outputs": [
    {
     "data": {
      "text/plain": [
       "(609771, 18)"
      ]
     },
     "execution_count": 26,
     "metadata": {},
     "output_type": "execute_result"
    }
   ],
   "source": [
    "df_train_new_wo_onedaypass.shape"
   ]
  },
  {
   "cell_type": "markdown",
   "id": "9e5f23c3-5bbc-45b0-9d43-12adf56723c3",
   "metadata": {},
   "source": [
    "+ Se asignan varibles numéricas a las categóricas de **passholder_type**"
   ]
  },
  {
   "cell_type": "code",
   "execution_count": 27,
   "id": "ea2a5380-ced8-468b-b647-8801b080b7f6",
   "metadata": {},
   "outputs": [],
   "source": [
    "df_train_new_wo_onedaypass.passholder_type =df_train_new_wo_onedaypass.passholder_type.replace({\"Walk-up\":1,\"Monthly Pass\":2,\"One Day Pass\":3,\"Annual Pass\":4,\"Flex Pass\":5,\"Testing\":6})"
   ]
  },
  {
   "cell_type": "code",
   "execution_count": 28,
   "id": "fbacf9d2-75a3-4181-a082-6f9b351d51a4",
   "metadata": {},
   "outputs": [
    {
     "data": {
      "text/plain": [
       "Lunes                 0\n",
       "Martes                0\n",
       "Miercoles             0\n",
       "Jueves                0\n",
       "Viernes               0\n",
       "Sabado                0\n",
       "Domingo               0\n",
       "Lunes_end             0\n",
       "Martes_end            0\n",
       "Miercoles_end         0\n",
       "Jueves_end            0\n",
       "Viernes_end           0\n",
       "Sabado_end            0\n",
       "Domingo_end           0\n",
       "start_station         0\n",
       "end_station           0\n",
       "duration              0\n",
       "passholder_type    2576\n",
       "dtype: int64"
      ]
     },
     "execution_count": 28,
     "metadata": {},
     "output_type": "execute_result"
    }
   ],
   "source": [
    "df_train_new_wo_onedaypass.isnull().sum()"
   ]
  },
  {
   "cell_type": "markdown",
   "id": "ef9ab524-8b76-4ee7-9e3d-e15dd12e4d44",
   "metadata": {},
   "source": [
    "Ahora se procede a eliminar valores **NAN** en **passholder_type** ya que únicamente hay 2576 ; comparado con el resto de datos es una ínfima minoría por lo que no debería tener impacto eliminarlos, así que como primer aproximación del desarrollo del modelo se eliminarán :"
   ]
  },
  {
   "cell_type": "code",
   "execution_count": 29,
   "id": "226fce31-d7d9-416c-b72a-211e96da09b3",
   "metadata": {},
   "outputs": [],
   "source": [
    "df_train_new_not_nan = df_train_new_wo_onedaypass[df_train_new_wo_onedaypass['passholder_type'].notna()]"
   ]
  },
  {
   "cell_type": "code",
   "execution_count": 30,
   "id": "12c19dc4-835d-41b1-92ec-cd97323177b7",
   "metadata": {},
   "outputs": [
    {
     "data": {
      "text/plain": [
       "Lunes              0\n",
       "Martes             0\n",
       "Miercoles          0\n",
       "Jueves             0\n",
       "Viernes            0\n",
       "Sabado             0\n",
       "Domingo            0\n",
       "Lunes_end          0\n",
       "Martes_end         0\n",
       "Miercoles_end      0\n",
       "Jueves_end         0\n",
       "Viernes_end        0\n",
       "Sabado_end         0\n",
       "Domingo_end        0\n",
       "start_station      0\n",
       "end_station        0\n",
       "duration           0\n",
       "passholder_type    0\n",
       "dtype: int64"
      ]
     },
     "execution_count": 30,
     "metadata": {},
     "output_type": "execute_result"
    }
   ],
   "source": [
    "df_train_new_not_nan.isnull().sum()"
   ]
  },
  {
   "cell_type": "markdown",
   "id": "f81facd7-1b5c-40f1-8531-51e9d6bddb65",
   "metadata": {},
   "source": [
    "Se comprueba que efectivamente ya no hay presencia de valores NAN.\n"
   ]
  },
  {
   "cell_type": "code",
   "execution_count": 31,
   "id": "31435873-31de-4f50-8fd8-599d545fd751",
   "metadata": {},
   "outputs": [
    {
     "data": {
      "text/html": [
       "<div>\n",
       "<style scoped>\n",
       "    .dataframe tbody tr th:only-of-type {\n",
       "        vertical-align: middle;\n",
       "    }\n",
       "\n",
       "    .dataframe tbody tr th {\n",
       "        vertical-align: top;\n",
       "    }\n",
       "\n",
       "    .dataframe thead th {\n",
       "        text-align: right;\n",
       "    }\n",
       "</style>\n",
       "<table border=\"1\" class=\"dataframe\">\n",
       "  <thead>\n",
       "    <tr style=\"text-align: right;\">\n",
       "      <th></th>\n",
       "      <th>Lunes</th>\n",
       "      <th>Martes</th>\n",
       "      <th>Miercoles</th>\n",
       "      <th>Jueves</th>\n",
       "      <th>Viernes</th>\n",
       "      <th>Sabado</th>\n",
       "      <th>Domingo</th>\n",
       "      <th>Lunes_end</th>\n",
       "      <th>Martes_end</th>\n",
       "      <th>Miercoles_end</th>\n",
       "      <th>Jueves_end</th>\n",
       "      <th>Viernes_end</th>\n",
       "      <th>Sabado_end</th>\n",
       "      <th>Domingo_end</th>\n",
       "      <th>start_station</th>\n",
       "      <th>end_station</th>\n",
       "      <th>duration</th>\n",
       "      <th>passholder_type</th>\n",
       "    </tr>\n",
       "  </thead>\n",
       "  <tbody>\n",
       "    <tr>\n",
       "      <th>0</th>\n",
       "      <td>0</td>\n",
       "      <td>1</td>\n",
       "      <td>0</td>\n",
       "      <td>0</td>\n",
       "      <td>0</td>\n",
       "      <td>0</td>\n",
       "      <td>0</td>\n",
       "      <td>0</td>\n",
       "      <td>1</td>\n",
       "      <td>0</td>\n",
       "      <td>0</td>\n",
       "      <td>0</td>\n",
       "      <td>0</td>\n",
       "      <td>0</td>\n",
       "      <td>4127</td>\n",
       "      <td>4127</td>\n",
       "      <td>35</td>\n",
       "      <td>1.0</td>\n",
       "    </tr>\n",
       "    <tr>\n",
       "      <th>1</th>\n",
       "      <td>0</td>\n",
       "      <td>0</td>\n",
       "      <td>0</td>\n",
       "      <td>0</td>\n",
       "      <td>0</td>\n",
       "      <td>0</td>\n",
       "      <td>1</td>\n",
       "      <td>0</td>\n",
       "      <td>0</td>\n",
       "      <td>0</td>\n",
       "      <td>0</td>\n",
       "      <td>0</td>\n",
       "      <td>0</td>\n",
       "      <td>1</td>\n",
       "      <td>3057</td>\n",
       "      <td>3062</td>\n",
       "      <td>32</td>\n",
       "      <td>1.0</td>\n",
       "    </tr>\n",
       "    <tr>\n",
       "      <th>2</th>\n",
       "      <td>1</td>\n",
       "      <td>0</td>\n",
       "      <td>0</td>\n",
       "      <td>0</td>\n",
       "      <td>0</td>\n",
       "      <td>0</td>\n",
       "      <td>0</td>\n",
       "      <td>1</td>\n",
       "      <td>0</td>\n",
       "      <td>0</td>\n",
       "      <td>0</td>\n",
       "      <td>0</td>\n",
       "      <td>0</td>\n",
       "      <td>0</td>\n",
       "      <td>3022</td>\n",
       "      <td>3062</td>\n",
       "      <td>6</td>\n",
       "      <td>2.0</td>\n",
       "    </tr>\n",
       "    <tr>\n",
       "      <th>4</th>\n",
       "      <td>0</td>\n",
       "      <td>0</td>\n",
       "      <td>0</td>\n",
       "      <td>0</td>\n",
       "      <td>1</td>\n",
       "      <td>0</td>\n",
       "      <td>0</td>\n",
       "      <td>0</td>\n",
       "      <td>0</td>\n",
       "      <td>0</td>\n",
       "      <td>0</td>\n",
       "      <td>1</td>\n",
       "      <td>0</td>\n",
       "      <td>0</td>\n",
       "      <td>4266</td>\n",
       "      <td>4443</td>\n",
       "      <td>14</td>\n",
       "      <td>2.0</td>\n",
       "    </tr>\n",
       "    <tr>\n",
       "      <th>5</th>\n",
       "      <td>0</td>\n",
       "      <td>0</td>\n",
       "      <td>0</td>\n",
       "      <td>0</td>\n",
       "      <td>0</td>\n",
       "      <td>1</td>\n",
       "      <td>0</td>\n",
       "      <td>0</td>\n",
       "      <td>0</td>\n",
       "      <td>0</td>\n",
       "      <td>0</td>\n",
       "      <td>0</td>\n",
       "      <td>1</td>\n",
       "      <td>0</td>\n",
       "      <td>4158</td>\n",
       "      <td>4158</td>\n",
       "      <td>30</td>\n",
       "      <td>1.0</td>\n",
       "    </tr>\n",
       "  </tbody>\n",
       "</table>\n",
       "</div>"
      ],
      "text/plain": [
       "   Lunes  Martes  Miercoles  Jueves  Viernes  Sabado  Domingo  Lunes_end  \\\n",
       "0      0       1          0       0        0       0        0          0   \n",
       "1      0       0          0       0        0       0        1          0   \n",
       "2      1       0          0       0        0       0        0          1   \n",
       "4      0       0          0       0        1       0        0          0   \n",
       "5      0       0          0       0        0       1        0          0   \n",
       "\n",
       "   Martes_end  Miercoles_end  Jueves_end  Viernes_end  Sabado_end  \\\n",
       "0           1              0           0            0           0   \n",
       "1           0              0           0            0           0   \n",
       "2           0              0           0            0           0   \n",
       "4           0              0           0            1           0   \n",
       "5           0              0           0            0           1   \n",
       "\n",
       "   Domingo_end  start_station  end_station  duration  passholder_type  \n",
       "0            0           4127         4127        35              1.0  \n",
       "1            1           3057         3062        32              1.0  \n",
       "2            0           3022         3062         6              2.0  \n",
       "4            0           4266         4443        14              2.0  \n",
       "5            0           4158         4158        30              1.0  "
      ]
     },
     "execution_count": 31,
     "metadata": {},
     "output_type": "execute_result"
    }
   ],
   "source": [
    "df_train_new_not_nan.head()"
   ]
  },
  {
   "cell_type": "markdown",
   "id": "3bb4f86a-b85f-4fed-8768-dce3de8a2fe5",
   "metadata": {},
   "source": [
    "Procedemos ahora a construir las variables pedictoras y de respuesta para el entranemiento del modelo."
   ]
  },
  {
   "cell_type": "code",
   "execution_count": 32,
   "id": "997b9535-426c-4cd0-8283-fc731c892b4c",
   "metadata": {},
   "outputs": [],
   "source": [
    "# X --> variable predictora ; Y--> variable de respuesta"
   ]
  },
  {
   "cell_type": "code",
   "execution_count": 33,
   "id": "1152e603-b74a-401d-b514-d563c33394b4",
   "metadata": {},
   "outputs": [],
   "source": [
    "X = df_train_new_not_nan.loc[:,df_train_new_not_nan.columns != \"passholder_type\"]"
   ]
  },
  {
   "cell_type": "code",
   "execution_count": 34,
   "id": "effb7dc8-6f4d-4e8c-b978-0891bbb8cb36",
   "metadata": {},
   "outputs": [],
   "source": [
    "Y = df_train_new_not_nan.loc[:,df_train_new_not_nan.columns == \"passholder_type\"]"
   ]
  },
  {
   "cell_type": "code",
   "execution_count": 35,
   "id": "18fb1f2f-a5b6-4904-8839-c2e14f4510c7",
   "metadata": {},
   "outputs": [
    {
     "data": {
      "text/plain": [
       "array([1., 2.])"
      ]
     },
     "execution_count": 35,
     "metadata": {},
     "output_type": "execute_result"
    }
   ],
   "source": [
    "Y.passholder_type.unique() # esta línea sólo es para corroborr que se han eliminado los otros tipos de categorías que se considern como outlayers."
   ]
  },
  {
   "cell_type": "markdown",
   "id": "bf0f90b3-2754-4bed-9d40-86276a303476",
   "metadata": {},
   "source": [
    "Segmetación de los datos de entrenamiento con train_test_split : 80 por ciento datos de entrenamiento y 20 por ciento datos de prueba:"
   ]
  },
  {
   "cell_type": "code",
   "execution_count": 36,
   "id": "9a3a9275-a7ac-492d-88b5-8084a37e15d8",
   "metadata": {},
   "outputs": [],
   "source": [
    "from sklearn.model_selection import train_test_split\n",
    "from sklearn.linear_model import LogisticRegression\n",
    "from sklearn import linear_model"
   ]
  },
  {
   "cell_type": "code",
   "execution_count": 37,
   "id": "952f4967-41be-46b5-bff3-79f0e1becaee",
   "metadata": {},
   "outputs": [],
   "source": [
    "X_train,X_test,y_train,y_test = train_test_split(\n",
    "X,Y,test_size=0.30,random_state=1)"
   ]
  },
  {
   "cell_type": "code",
   "execution_count": 38,
   "id": "88771693-4859-4437-ae3c-8d837ae2f307",
   "metadata": {},
   "outputs": [],
   "source": [
    "model = linear_model.LogisticRegression(multi_class=\"multinomial\",solver=\"newton-cg\")"
   ]
  },
  {
   "cell_type": "markdown",
   "id": "5285d27a-aba8-4a38-99c9-cb16ff653d88",
   "metadata": {},
   "source": [
    "Ajuste del modelo de regresión logística:"
   ]
  },
  {
   "cell_type": "code",
   "execution_count": 39,
   "id": "d23344c1-e1f3-4995-a4f8-83984470511c",
   "metadata": {},
   "outputs": [
    {
     "name": "stderr",
     "output_type": "stream",
     "text": [
      "/usr/local/lib/python3.8/site-packages/scipy/optimize/_linesearch.py:456: LineSearchWarning: The line search algorithm did not converge\n",
      "  warn('The line search algorithm did not converge', LineSearchWarning)\n",
      "/usr/local/lib/python3.8/site-packages/scipy/optimize/_linesearch.py:305: LineSearchWarning: The line search algorithm did not converge\n",
      "  warn('The line search algorithm did not converge', LineSearchWarning)\n",
      "/usr/local/lib/python3.8/site-packages/scipy/optimize/_linesearch.py:415: LineSearchWarning: Rounding errors prevent the line search from converging\n",
      "  warn(msg, LineSearchWarning)\n",
      "/usr/local/lib/python3.8/site-packages/sklearn/utils/optimize.py:203: UserWarning: Line Search failed\n",
      "  warnings.warn(\"Line Search failed\")\n"
     ]
    }
   ],
   "source": [
    "result=model.fit(X_train,y_train.values.ravel())"
   ]
  },
  {
   "cell_type": "markdown",
   "id": "53116621-b896-43bb-835e-eb0e7319ca95",
   "metadata": {},
   "source": [
    "### Evaluación del rendimiento del modelo para los datos de entrenamiento:"
   ]
  },
  {
   "cell_type": "markdown",
   "id": "efbbf26d-c1a4-45b0-81c2-66d153ab2ff2",
   "metadata": {},
   "source": [
    "Se utiliza el criterio del accuracy y de la matriz de confusión para poder evaluar el rendimiento del modelo."
   ]
  },
  {
   "cell_type": "code",
   "execution_count": 40,
   "id": "410d1ccf-4534-4ccb-85d1-5e6ee6486f31",
   "metadata": {},
   "outputs": [],
   "source": [
    "from sklearn.metrics import accuracy_score,confusion_matrix#,precision_score,recall_score,confusion_matrix"
   ]
  },
  {
   "cell_type": "code",
   "execution_count": 41,
   "id": "a809c82a-8fa0-43d2-a3bb-e6d2dd8657ff",
   "metadata": {},
   "outputs": [],
   "source": [
    "from matplotlib import pyplot as plt\n",
    "import seaborn as sns"
   ]
  },
  {
   "cell_type": "code",
   "execution_count": 42,
   "id": "c96acaef-8cc3-4bbd-b8b6-c596593d4dd1",
   "metadata": {},
   "outputs": [],
   "source": [
    "y_pred_train =model.predict(X_train)"
   ]
  },
  {
   "cell_type": "markdown",
   "id": "7f3c2fea-d66a-4b46-b7d4-47e74a1f6fa9",
   "metadata": {},
   "source": [
    "**Accuracy**: La precisión se puede definir como la relación entre el número de casos correctamente clasificados y el total de casos en evaluación. El mejor valor de precisión es 1 y el peor valor es 0."
   ]
  },
  {
   "cell_type": "code",
   "execution_count": 43,
   "id": "e635fc90-e4ab-4449-9bc1-95a28ccd850e",
   "metadata": {},
   "outputs": [
    {
     "name": "stdout",
     "output_type": "stream",
     "text": [
      "Accuracy 0.7166522365164363\n"
     ]
    }
   ],
   "source": [
    "print(\"Accuracy\",accuracy_score(y_train,y_pred_train))"
   ]
  },
  {
   "cell_type": "code",
   "execution_count": 44,
   "id": "047c6bcb-dcf1-44ae-8ed8-07b9e243458a",
   "metadata": {},
   "outputs": [
    {
     "data": {
      "image/png": "[encoded data removed]",
      "text/plain": [
       "<Figure size 1200x1200 with 2 Axes>"
      ]
     },
     "metadata": {},
     "output_type": "display_data"
    },
    {
     "data": {
      "text/plain": [
       "<Figure size 640x480 with 0 Axes>"
      ]
     },
     "metadata": {},
     "output_type": "display_data"
    }
   ],
   "source": [
    "LABELS = ['Walk-up','Monthly Pass']\n",
    "\n",
    "conf_matrix_train = confusion_matrix(y_train, y_pred_train)\n",
    "cmn_train = conf_matrix_train.astype(\"float\")/conf_matrix_train.sum(axis=1)[:,np.newaxis]\n",
    "\n",
    "plt.figure(figsize=(12, 12))\n",
    "sns.heatmap(cmn_train, xticklabels=LABELS,fmt=\".3f\" ,yticklabels=LABELS, annot=True,cmap=\"crest\");\n",
    "plt.title(\"Detección de fraude usando RL\")\n",
    "plt.ylabel('Clase verdadera')\n",
    "plt.xlabel('Clase predicha')\n",
    "plt.show()\n",
    "plt.savefig('heatmappp',dpi=300)\n",
    "\n"
   ]
  },
  {
   "cell_type": "markdown",
   "id": "6666ec2d-bcaa-4fde-837b-79331a8ea396",
   "metadata": {},
   "source": [
    "### Evaluación del rendimiento del modelo para los datos de prueba:"
   ]
  },
  {
   "cell_type": "code",
   "execution_count": 45,
   "id": "5253015a-228b-4287-815c-d020341af3a4",
   "metadata": {},
   "outputs": [],
   "source": [
    "#from sklearn.metrics import accuracy_score,precision_score,recall_score,confusion_matrix"
   ]
  },
  {
   "cell_type": "code",
   "execution_count": 46,
   "id": "4c87a796-cd1b-486c-a7f6-b9f10fbbfae6",
   "metadata": {},
   "outputs": [],
   "source": [
    "y_pred =model.predict(X_test)"
   ]
  },
  {
   "cell_type": "markdown",
   "id": "514b2cbf-8e19-488e-aaaf-544fc590a0d8",
   "metadata": {},
   "source": [
    "**Accuracy**: La precisión se puede definir como la relación entre el número de casos correctamente clasificados y el total de casos en evaluación. El mejor valor de precisión es 1 y el peor valor es 0."
   ]
  },
  {
   "cell_type": "code",
   "execution_count": 47,
   "id": "13fdab8f-e4bd-42d0-ba90-6d6518d1f414",
   "metadata": {},
   "outputs": [
    {
     "name": "stdout",
     "output_type": "stream",
     "text": [
      "Accuracy 0.7166486421203454\n"
     ]
    }
   ],
   "source": [
    "print(\"Accuracy\",accuracy_score(y_test,y_pred))"
   ]
  },
  {
   "cell_type": "markdown",
   "id": "60bd127a-9a47-4610-ac22-60b8625e274e",
   "metadata": {},
   "source": [
    "Para que el **accuracy** mejorara, se podrían usar los datos de la latitud y la longitud del inicio de viajes, sin embargo debido a que se encuentran en unas unidades tales que no existe mucha diferencia entre uno y otro valor para la mayoría de los datos , pues por ejemplo si calculamos el valor mínimo y el máximo para **start_lat**:"
   ]
  },
  {
   "cell_type": "code",
   "execution_count": 48,
   "id": "3b94d4f2-7a5a-451e-a7c0-fca443796cc3",
   "metadata": {},
   "outputs": [
    {
     "data": {
      "text/plain": [
       "-118.495422"
      ]
     },
     "execution_count": 48,
     "metadata": {},
     "output_type": "execute_result"
    }
   ],
   "source": [
    "df_train.end_lon.min()"
   ]
  },
  {
   "cell_type": "code",
   "execution_count": 49,
   "id": "7951559f-1643-4686-86b7-4e434edd3944",
   "metadata": {},
   "outputs": [
    {
     "data": {
      "text/plain": [
       "37.606541"
      ]
     },
     "execution_count": 49,
     "metadata": {},
     "output_type": "execute_result"
    }
   ],
   "source": [
    "df_train.end_lon.max()"
   ]
  },
  {
   "cell_type": "code",
   "execution_count": 50,
   "id": "e4a91354-3689-4947-a2ae-4cde0b914cc3",
   "metadata": {},
   "outputs": [
    {
     "data": {
      "text/plain": [
       "-118.2591832883982"
      ]
     },
     "execution_count": 50,
     "metadata": {},
     "output_type": "execute_result"
    }
   ],
   "source": [
    "df_train.end_lon.mean()"
   ]
  },
  {
   "cell_type": "markdown",
   "id": "a6615c6f-0e71-4f35-b917-24c1879af4e6",
   "metadata": {},
   "source": [
    "Y al calcular la media de valores (out put anterior) vemos que es muy cercano al valor mínimo y por lo tanto para la mayoría de los valores end_lon, no habrá diferencia prácticamente entre distintos valores siendo una variable poco relevante para modelos predictivos, pues manteniéndode cual si fuera una constante, no resulta congruente usarlas como variables predictoras."
   ]
  },
  {
   "cell_type": "code",
   "execution_count": 51,
   "id": "a351c3f6-0be3-4100-bdef-1e03cfc15505",
   "metadata": {},
   "outputs": [
    {
     "data": {
      "image/png": "[encoded data removed]",
      "text/plain": [
       "<Figure size 1200x1200 with 2 Axes>"
      ]
     },
     "metadata": {},
     "output_type": "display_data"
    },
    {
     "data": {
      "text/plain": [
       "<Figure size 640x480 with 0 Axes>"
      ]
     },
     "metadata": {},
     "output_type": "display_data"
    }
   ],
   "source": [
    "LABELS = ['Walk-up','Monthly Pass']\n",
    "\n",
    "conf_matrix_test = confusion_matrix(y_test, y_pred)\n",
    "cmn_test = conf_matrix_test.astype(\"float\")/conf_matrix_test.sum(axis=1)[:,np.newaxis]\n",
    "\n",
    "plt.figure(figsize=(12, 12))\n",
    "sns.heatmap(cmn_test, xticklabels=LABELS,fmt=\".3f\" ,yticklabels=LABELS, annot=True,cmap=\"crest\");\n",
    "plt.title(\"Detección de fraude usando RL\")\n",
    "plt.ylabel('Clase verdadera')\n",
    "plt.xlabel('Clase predicha')\n",
    "plt.show()\n",
    "plt.savefig('heatmappp',dpi=300)\n"
   ]
  },
  {
   "cell_type": "markdown",
   "id": "7f982e41-fc55-452f-8acb-5b5795ad5ca6",
   "metadata": {},
   "source": [
    "# Predicción con el data set de prueba para sample submission"
   ]
  },
  {
   "cell_type": "markdown",
   "id": "8d21e3fb-cdb2-4dd0-aed6-6a26d85a0f92",
   "metadata": {},
   "source": [
    "test_set.csv contiene datos que no tienen la variable dependiente y que se debe hacer su\n",
    "predicción:"
   ]
  },
  {
   "cell_type": "code",
   "execution_count": 52,
   "id": "ad4f2e44-fd19-434f-a400-f517711371a2",
   "metadata": {},
   "outputs": [
    {
     "name": "stderr",
     "output_type": "stream",
     "text": [
      "/tmp/ipykernel_2195/484746526.py:1: DtypeWarning: Columns (8) have mixed types. Specify dtype option on import or set low_memory=False.\n",
      "  df_test_final= pd.read_csv(\"ds-programming-test/test_set.csv\")\n"
     ]
    }
   ],
   "source": [
    "df_test_final= pd.read_csv(\"ds-programming-test/test_set.csv\")"
   ]
  },
  {
   "cell_type": "code",
   "execution_count": 53,
   "id": "3b1c62a6-1945-4091-a11c-c8d2642b9846",
   "metadata": {},
   "outputs": [
    {
     "data": {
      "text/html": [
       "<div>\n",
       "<style scoped>\n",
       "    .dataframe tbody tr th:only-of-type {\n",
       "        vertical-align: middle;\n",
       "    }\n",
       "\n",
       "    .dataframe tbody tr th {\n",
       "        vertical-align: top;\n",
       "    }\n",
       "\n",
       "    .dataframe thead th {\n",
       "        text-align: right;\n",
       "    }\n",
       "</style>\n",
       "<table border=\"1\" class=\"dataframe\">\n",
       "  <thead>\n",
       "    <tr style=\"text-align: right;\">\n",
       "      <th></th>\n",
       "      <th>trip_id</th>\n",
       "      <th>duration</th>\n",
       "      <th>start_time</th>\n",
       "      <th>end_time</th>\n",
       "      <th>start_lat</th>\n",
       "      <th>start_lon</th>\n",
       "      <th>end_lat</th>\n",
       "      <th>end_lon</th>\n",
       "      <th>bike_id</th>\n",
       "      <th>trip_route_category</th>\n",
       "      <th>start_station</th>\n",
       "      <th>end_station</th>\n",
       "    </tr>\n",
       "  </thead>\n",
       "  <tbody>\n",
       "    <tr>\n",
       "      <th>0</th>\n",
       "      <td>17059130</td>\n",
       "      <td>12</td>\n",
       "      <td>1/1/2017 0:24</td>\n",
       "      <td>1/1/2017 0:36</td>\n",
       "      <td>34.058319</td>\n",
       "      <td>-118.246094</td>\n",
       "      <td>34.058319</td>\n",
       "      <td>-118.246094</td>\n",
       "      <td>6351</td>\n",
       "      <td>Round Trip</td>\n",
       "      <td>3028</td>\n",
       "      <td>3028</td>\n",
       "    </tr>\n",
       "    <tr>\n",
       "      <th>1</th>\n",
       "      <td>17059129</td>\n",
       "      <td>17</td>\n",
       "      <td>1/1/2017 0:28</td>\n",
       "      <td>1/1/2017 0:45</td>\n",
       "      <td>34.049980</td>\n",
       "      <td>-118.247162</td>\n",
       "      <td>34.043732</td>\n",
       "      <td>-118.260139</td>\n",
       "      <td>5836</td>\n",
       "      <td>One Way</td>\n",
       "      <td>3027</td>\n",
       "      <td>3018</td>\n",
       "    </tr>\n",
       "  </tbody>\n",
       "</table>\n",
       "</div>"
      ],
      "text/plain": [
       "    trip_id  duration     start_time       end_time  start_lat   start_lon  \\\n",
       "0  17059130        12  1/1/2017 0:24  1/1/2017 0:36  34.058319 -118.246094   \n",
       "1  17059129        17  1/1/2017 0:28  1/1/2017 0:45  34.049980 -118.247162   \n",
       "\n",
       "     end_lat     end_lon bike_id trip_route_category  start_station  \\\n",
       "0  34.058319 -118.246094    6351          Round Trip           3028   \n",
       "1  34.043732 -118.260139    5836             One Way           3027   \n",
       "\n",
       "   end_station  \n",
       "0         3028  \n",
       "1         3018  "
      ]
     },
     "execution_count": 53,
     "metadata": {},
     "output_type": "execute_result"
    }
   ],
   "source": [
    "df_test_final.head(2)"
   ]
  },
  {
   "cell_type": "markdown",
   "id": "320216e7-1ea6-4774-8c7a-f9bd9ceb5309",
   "metadata": {},
   "source": [
    "Trasformación a variables dummy de **start_time** y **end_time**"
   ]
  },
  {
   "cell_type": "code",
   "execution_count": 54,
   "id": "051796f3-2683-4a83-aa1f-d8bd76f79852",
   "metadata": {},
   "outputs": [],
   "source": [
    "df_test_final.start_time = df_test_final.start_time.astype(\"datetime64[ns]\")"
   ]
  },
  {
   "cell_type": "code",
   "execution_count": 55,
   "id": "00dc9cd0-72b4-4aa7-b072-015c6527b81a",
   "metadata": {},
   "outputs": [],
   "source": [
    "df_test_final[\"start_time_class\"]=df_test_final[\"start_time\"].dt.dayofweek"
   ]
  },
  {
   "cell_type": "code",
   "execution_count": 56,
   "id": "d49081eb-2b2b-465d-9bd9-fdde54ce6c52",
   "metadata": {},
   "outputs": [],
   "source": [
    "df_dummies_week_days_final=pd.get_dummies(df_test_final[\"start_time_class\"])"
   ]
  },
  {
   "cell_type": "code",
   "execution_count": 57,
   "id": "4328ac6d-43f9-4e12-886b-fcc4cd610ef6",
   "metadata": {},
   "outputs": [],
   "source": [
    "df_test_final.end_time = df_test_final.end_time.astype(\"datetime64[ns]\")"
   ]
  },
  {
   "cell_type": "code",
   "execution_count": 58,
   "id": "2d007210-25e9-4966-ac3c-9d84c87c3686",
   "metadata": {},
   "outputs": [],
   "source": [
    "df_test_final[\"end_time\"]=df_test_final[\"end_time\"].dt.dayofweek"
   ]
  },
  {
   "cell_type": "code",
   "execution_count": 59,
   "id": "2f0127e1-87db-46a6-b8e5-7b85c7fd97a0",
   "metadata": {},
   "outputs": [],
   "source": [
    "df_dummies_week_days_end_final=pd.get_dummies(df_test_final[\"end_time\"])"
   ]
  },
  {
   "cell_type": "markdown",
   "id": "a7cb7552-1708-4bb8-be86-806734234a65",
   "metadata": {},
   "source": [
    "Ya que se desea predecir la categoría **passholder_type** esta no aparecerá en el siguiente data set:"
   ]
  },
  {
   "cell_type": "code",
   "execution_count": 60,
   "id": "76a7d979-8da7-4768-b684-ed8e1f8b4f54",
   "metadata": {},
   "outputs": [],
   "source": [
    "df_test_new =pd.DataFrame().assign(Lunes=df_dummies_week_days_final[0]\n",
    ",Martes=df_dummies_week_days_final[1],Miercoles=df_dummies_week_days_final[2]\n",
    ",Jueves=df_dummies_week_days_final[3],Viernes=df_dummies_week_days_final[4]\n",
    ",Sabado=df_dummies_week_days_final[5],Domingo=df_dummies_week_days_final[6]\n",
    ",Lunes_end=df_dummies_week_days_end_final[0],Martes_end=df_dummies_week_days_end_final[1]\n",
    ",Miercoles_end=df_dummies_week_days_end_final[2],Jueves_end=df_dummies_week_days_end_final[3]\n",
    ",Viernes_end=df_dummies_week_days_end_final[4],Sabado_end=df_dummies_week_days_end_final[5]\n",
    ",Domingo_end=df_dummies_week_days_end_final[6],start_station=df_test_final[\"start_station\"]\n",
    ",end_station=df_test_final[\"end_station\"],duration=df_test_final[\"duration\"])"
   ]
  },
  {
   "cell_type": "code",
   "execution_count": 61,
   "id": "e3bf252f-3ba1-4415-bb71-767659237012",
   "metadata": {},
   "outputs": [
    {
     "data": {
      "text/plain": [
       "Lunes            0\n",
       "Martes           0\n",
       "Miercoles        0\n",
       "Jueves           0\n",
       "Viernes          0\n",
       "Sabado           0\n",
       "Domingo          0\n",
       "Lunes_end        0\n",
       "Martes_end       0\n",
       "Miercoles_end    0\n",
       "Jueves_end       0\n",
       "Viernes_end      0\n",
       "Sabado_end       0\n",
       "Domingo_end      0\n",
       "start_station    0\n",
       "end_station      0\n",
       "duration         0\n",
       "dtype: int64"
      ]
     },
     "execution_count": 61,
     "metadata": {},
     "output_type": "execute_result"
    }
   ],
   "source": [
    "df_test_new.isnull().sum()"
   ]
  },
  {
   "cell_type": "code",
   "execution_count": 62,
   "id": "eac8317b-3a05-492f-a6e5-3809041b179f",
   "metadata": {},
   "outputs": [
    {
     "data": {
      "text/html": [
       "<div>\n",
       "<style scoped>\n",
       "    .dataframe tbody tr th:only-of-type {\n",
       "        vertical-align: middle;\n",
       "    }\n",
       "\n",
       "    .dataframe tbody tr th {\n",
       "        vertical-align: top;\n",
       "    }\n",
       "\n",
       "    .dataframe thead th {\n",
       "        text-align: right;\n",
       "    }\n",
       "</style>\n",
       "<table border=\"1\" class=\"dataframe\">\n",
       "  <thead>\n",
       "    <tr style=\"text-align: right;\">\n",
       "      <th></th>\n",
       "      <th>Lunes</th>\n",
       "      <th>Martes</th>\n",
       "      <th>Miercoles</th>\n",
       "      <th>Jueves</th>\n",
       "      <th>Viernes</th>\n",
       "      <th>Sabado</th>\n",
       "      <th>Domingo</th>\n",
       "      <th>Lunes_end</th>\n",
       "      <th>Martes_end</th>\n",
       "      <th>Miercoles_end</th>\n",
       "      <th>Jueves_end</th>\n",
       "      <th>Viernes_end</th>\n",
       "      <th>Sabado_end</th>\n",
       "      <th>Domingo_end</th>\n",
       "      <th>start_station</th>\n",
       "      <th>end_station</th>\n",
       "      <th>duration</th>\n",
       "    </tr>\n",
       "  </thead>\n",
       "  <tbody>\n",
       "    <tr>\n",
       "      <th>0</th>\n",
       "      <td>0</td>\n",
       "      <td>0</td>\n",
       "      <td>0</td>\n",
       "      <td>0</td>\n",
       "      <td>0</td>\n",
       "      <td>0</td>\n",
       "      <td>1</td>\n",
       "      <td>0</td>\n",
       "      <td>0</td>\n",
       "      <td>0</td>\n",
       "      <td>0</td>\n",
       "      <td>0</td>\n",
       "      <td>0</td>\n",
       "      <td>1</td>\n",
       "      <td>3028</td>\n",
       "      <td>3028</td>\n",
       "      <td>12</td>\n",
       "    </tr>\n",
       "    <tr>\n",
       "      <th>1</th>\n",
       "      <td>0</td>\n",
       "      <td>0</td>\n",
       "      <td>0</td>\n",
       "      <td>0</td>\n",
       "      <td>0</td>\n",
       "      <td>0</td>\n",
       "      <td>1</td>\n",
       "      <td>0</td>\n",
       "      <td>0</td>\n",
       "      <td>0</td>\n",
       "      <td>0</td>\n",
       "      <td>0</td>\n",
       "      <td>0</td>\n",
       "      <td>1</td>\n",
       "      <td>3027</td>\n",
       "      <td>3018</td>\n",
       "      <td>17</td>\n",
       "    </tr>\n",
       "  </tbody>\n",
       "</table>\n",
       "</div>"
      ],
      "text/plain": [
       "   Lunes  Martes  Miercoles  Jueves  Viernes  Sabado  Domingo  Lunes_end  \\\n",
       "0      0       0          0       0        0       0        1          0   \n",
       "1      0       0          0       0        0       0        1          0   \n",
       "\n",
       "   Martes_end  Miercoles_end  Jueves_end  Viernes_end  Sabado_end  \\\n",
       "0           0              0           0            0           0   \n",
       "1           0              0           0            0           0   \n",
       "\n",
       "   Domingo_end  start_station  end_station  duration  \n",
       "0            1           3028         3028        12  \n",
       "1            1           3027         3018        17  "
      ]
     },
     "execution_count": 62,
     "metadata": {},
     "output_type": "execute_result"
    }
   ],
   "source": [
    "df_test_new.head(2)"
   ]
  },
  {
   "cell_type": "code",
   "execution_count": 63,
   "id": "f05ab9a8-72e2-4474-8b78-0ef845fdb359",
   "metadata": {},
   "outputs": [],
   "source": [
    "y_pred_final =model.predict(df_test_new)"
   ]
  },
  {
   "cell_type": "code",
   "execution_count": 64,
   "id": "228dca95-8ec3-47c4-ab61-a4605e9d978c",
   "metadata": {},
   "outputs": [],
   "source": [
    "df_pred_final_tripid = pd.DataFrame(data= df_test_final[\"trip_id\"],\n",
    "                            columns=[\"trip_id\"])"
   ]
  },
  {
   "cell_type": "code",
   "execution_count": 65,
   "id": "b10004dc-d938-4235-83bf-0598ebf9de2e",
   "metadata": {},
   "outputs": [],
   "source": [
    "df_pred_final = pd.DataFrame(data= y_pred_final,\n",
    "                            columns=[\"passholder_type\"])"
   ]
  },
  {
   "cell_type": "markdown",
   "id": "c8b42169-9c6e-4cc0-86d4-5bc8919839d1",
   "metadata": {},
   "source": [
    "Se obtiene el data frame que contiene el **trip_id** y la predicción de la variable **passholder_type**."
   ]
  },
  {
   "cell_type": "code",
   "execution_count": 66,
   "id": "4f939868-62d1-4021-bcd4-82f728640b3b",
   "metadata": {},
   "outputs": [],
   "source": [
    "final_csv=df_pred_final_tripid.join(df_pred_final)"
   ]
  },
  {
   "cell_type": "code",
   "execution_count": 67,
   "id": "500cd91c-ec92-4461-b97b-6e58abc953bf",
   "metadata": {},
   "outputs": [
    {
     "data": {
      "text/html": [
       "<div>\n",
       "<style scoped>\n",
       "    .dataframe tbody tr th:only-of-type {\n",
       "        vertical-align: middle;\n",
       "    }\n",
       "\n",
       "    .dataframe tbody tr th {\n",
       "        vertical-align: top;\n",
       "    }\n",
       "\n",
       "    .dataframe thead th {\n",
       "        text-align: right;\n",
       "    }\n",
       "</style>\n",
       "<table border=\"1\" class=\"dataframe\">\n",
       "  <thead>\n",
       "    <tr style=\"text-align: right;\">\n",
       "      <th></th>\n",
       "      <th>trip_id</th>\n",
       "      <th>passholder_type</th>\n",
       "    </tr>\n",
       "  </thead>\n",
       "  <tbody>\n",
       "    <tr>\n",
       "      <th>0</th>\n",
       "      <td>17059130</td>\n",
       "      <td>2.0</td>\n",
       "    </tr>\n",
       "    <tr>\n",
       "      <th>1</th>\n",
       "      <td>17059129</td>\n",
       "      <td>2.0</td>\n",
       "    </tr>\n",
       "    <tr>\n",
       "      <th>2</th>\n",
       "      <td>17059126</td>\n",
       "      <td>2.0</td>\n",
       "    </tr>\n",
       "    <tr>\n",
       "      <th>3</th>\n",
       "      <td>17059125</td>\n",
       "      <td>2.0</td>\n",
       "    </tr>\n",
       "    <tr>\n",
       "      <th>4</th>\n",
       "      <td>17061379</td>\n",
       "      <td>2.0</td>\n",
       "    </tr>\n",
       "    <tr>\n",
       "      <th>...</th>\n",
       "      <td>...</td>\n",
       "      <td>...</td>\n",
       "    </tr>\n",
       "    <tr>\n",
       "      <th>569881</th>\n",
       "      <td>179408277</td>\n",
       "      <td>2.0</td>\n",
       "    </tr>\n",
       "    <tr>\n",
       "      <th>569882</th>\n",
       "      <td>179408276</td>\n",
       "      <td>2.0</td>\n",
       "    </tr>\n",
       "    <tr>\n",
       "      <th>569883</th>\n",
       "      <td>179409877</td>\n",
       "      <td>2.0</td>\n",
       "    </tr>\n",
       "    <tr>\n",
       "      <th>569884</th>\n",
       "      <td>179409876</td>\n",
       "      <td>2.0</td>\n",
       "    </tr>\n",
       "    <tr>\n",
       "      <th>569885</th>\n",
       "      <td>179492474</td>\n",
       "      <td>1.0</td>\n",
       "    </tr>\n",
       "  </tbody>\n",
       "</table>\n",
       "<p>569886 rows × 2 columns</p>\n",
       "</div>"
      ],
      "text/plain": [
       "          trip_id  passholder_type\n",
       "0        17059130              2.0\n",
       "1        17059129              2.0\n",
       "2        17059126              2.0\n",
       "3        17059125              2.0\n",
       "4        17061379              2.0\n",
       "...           ...              ...\n",
       "569881  179408277              2.0\n",
       "569882  179408276              2.0\n",
       "569883  179409877              2.0\n",
       "569884  179409876              2.0\n",
       "569885  179492474              1.0\n",
       "\n",
       "[569886 rows x 2 columns]"
      ]
     },
     "execution_count": 67,
     "metadata": {},
     "output_type": "execute_result"
    }
   ],
   "source": [
    "final_csv"
   ]
  },
  {
   "cell_type": "code",
   "execution_count": 68,
   "id": "4af9b3c7-b2cb-4d92-b66b-ab27c3229b1c",
   "metadata": {},
   "outputs": [],
   "source": [
    "final_csv.to_csv(\"sample_submission.csv\")"
   ]
  }
 ],
 "metadata": {
  "kernelspec": {
   "display_name": "Python 3 (ipykernel)",
   "language": "python",
   "name": "python3"
  },
  "language_info": {
   "codemirror_mode": {
    "name": "ipython",
    "version": 3
   },
   "file_extension": ".py",
   "mimetype": "text/x-python",
   "name": "python",
   "nbconvert_exporter": "python",
   "pygments_lexer": "ipython3",
   "version": "3.8.15"
  }
 },
 "nbformat": 4,
 "nbformat_minor": 5
}
